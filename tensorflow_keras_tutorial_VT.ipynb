{
  "nbformat": 4,
  "nbformat_minor": 0,
  "metadata": {
    "colab": {
      "provenance": []
    },
    "kernelspec": {
      "name": "python3",
      "display_name": "Python 3"
    },
    "language_info": {
      "name": "python"
    },
    "accelerator": "GPU",
    "gpuClass": "standard"
  },
  "cells": [
    {
      "cell_type": "markdown",
      "source": [
        "# Tensorfow & Keras Tutorial\n",
        "**Contents:** </br>\n",
        "<ul>\n",
        "<li> Introduction\n",
        "<li> Tensorflow and keras basics\n",
        "<li> Build a neural network step-by-step (by sequential API and functional API)\n",
        "<li> Visualize model\n",
        "<li> Save and load model\n",
        "\n",
        "</ul>"
      ],
      "metadata": {
        "id": "FYACkIySltfW"
      }
    },
    {
      "cell_type": "markdown",
      "source": [
        "## Introduction and installation\n",
        "This tutorial gives you fundamental concepts about Tensorflow and keras, and how to use them to build DL/ ML applications\n",
        "\n",
        "To run the experiments, I recommend to use colab since you don't need to install anything with it. But if you prefer runing in local or remote servers, please use the following order or check more information on the following links.\n",
        "\n",
        "**Install Tensorflow**: </br>\n",
        "<em>pip install tensorflow</em>  (cpu version) </br>\n",
        "<em>pip install tensorflow-gpu</em>  (gpu version)\n",
        "\n",
        "\n",
        "**Install Keras**: </br>\n",
        "<em>pip install keras</em>  \\\\\n",
        "\n",
        "**More information for the installation**: </br>\n",
        "Using conda: https://anaconda.org/conda-forge/tensorflow \\\\\n",
        "Using PIP https://www.tensorflow.org/install/pip \\\\\n",
        "\n",
        "### Tensorflow & Keras\n",
        "\n",
        "\n",
        "*   Tensorflow is an end-to-end open source platform for machine learning. \n",
        "*   Keras is a high-level deep learning API running on top of Tensorflow. Keras is designed to quickly define deep learning models\n",
        "</br>\n",
        "<img src=\"https://www.digikey.com/maker-media/6c3d4f5f-98e0-4104-ad8c-fb0b47000109\", width=640, heigth=480>\n",
        "\n",
        "\n",
        "Official website for Tensorflow: https://www.tensorflow.org/ </br>\n",
        "Official website for Keras: https://keras.io/\n",
        "\n"
      ],
      "metadata": {
        "id": "zPGDSH8yp_eI"
      }
    },
    {
      "cell_type": "markdown",
      "source": [
        "## TensorFlow & Keras Basics\n",
        "\n"
      ],
      "metadata": {
        "id": "nvNyL0UAsoAC"
      }
    },
    {
      "cell_type": "markdown",
      "source": [
        "### Data structure: Tensor\n",
        "\n",
        "</br>\n",
        "<img src=\"https://miro.medium.com/max/1400/0*jGB1CGQ9HdeUwlgB\", width=640, heigth=480>\n"
      ],
      "metadata": {
        "id": "9hs6aa06kfXc"
      }
    },
    {
      "cell_type": "code",
      "source": [
        "import tensorflow as tf\n",
        "\n",
        "## Initialization of tensors\n",
        "a=tf.constant(2.0, shape=(1), dtype=tf.float32)  # scalar, [shape, dtype are optional]\n",
        "print('a = ', a, '\\n')\n",
        "\n",
        "b=tf.constant([2.0], shape=(1, 1), dtype=tf.float32)  # vector\n",
        "print('b = ', b, '\\n')\n",
        "\n",
        "c=tf.constant([[1, 2, 3], [4, 5, 6]])  # matrix\n",
        "print('c = ', c, '\\n')\n",
        "\n",
        "d = tf.ones((3,3))\n",
        "print('d = ', d, '\\n')\n",
        "\n",
        "e = tf.zeros((2,3))\n",
        "print('e = ', e, '\\n')\n",
        "\n",
        "g=tf.range(8)   # a list \n",
        "print('g = ', g, '\\n')\n",
        "\n",
        "f= tf.random.normal((2, 3, 3), mean = 0, stddev = 1)   # random normal distribution \n",
        "print('f = ', f, '\\n')\n",
        "\n",
        "## use tf.cast() to convert data type\n",
        "c_converted= tf.cast(c, dtype=tf.float32)\n",
        "print('c_converted  = ', c_converted, '\\n')"
      ],
      "metadata": {
        "id": "Dljgoo0OnSPU",
        "colab": {
          "base_uri": "https://localhost:8080/"
        },
        "outputId": "bb8c70eb-88d5-44ca-88fa-72c39137c232"
      },
      "execution_count": null,
      "outputs": [
        {
          "output_type": "stream",
          "name": "stdout",
          "text": [
            "a =  tf.Tensor([2.], shape=(1,), dtype=float32) \n",
            "\n",
            "b =  tf.Tensor([[2.]], shape=(1, 1), dtype=float32) \n",
            "\n",
            "c =  tf.Tensor(\n",
            "[[1 2 3]\n",
            " [4 5 6]], shape=(2, 3), dtype=int32) \n",
            "\n",
            "d =  tf.Tensor(\n",
            "[[1. 1. 1.]\n",
            " [1. 1. 1.]\n",
            " [1. 1. 1.]], shape=(3, 3), dtype=float32) \n",
            "\n",
            "e =  tf.Tensor(\n",
            "[[0. 0. 0.]\n",
            " [0. 0. 0.]], shape=(2, 3), dtype=float32) \n",
            "\n",
            "g =  tf.Tensor([0 1 2 3 4 5 6 7], shape=(8,), dtype=int32) \n",
            "\n",
            "f =  tf.Tensor(\n",
            "[[[-1.0316962  -0.44871598 -1.3879845 ]\n",
            "  [ 2.052307    0.9466413  -0.05000946]\n",
            "  [ 0.7690035  -1.5349202   0.06424146]]\n",
            "\n",
            " [[ 0.35507357 -0.9333771  -1.6968606 ]\n",
            "  [-2.8946378  -1.4509016   0.09203199]\n",
            "  [ 2.5195658  -0.5625606   0.57014215]]], shape=(2, 3, 3), dtype=float32) \n",
            "\n",
            "c_converted  =  tf.Tensor(\n",
            "[[1. 2. 3.]\n",
            " [4. 5. 6.]], shape=(2, 3), dtype=float32) \n",
            "\n"
          ]
        }
      ]
    },
    {
      "cell_type": "markdown",
      "source": [
        "#### Mathematical operations"
      ],
      "metadata": {
        "id": "pqQRB7Aeswky"
      }
    },
    {
      "cell_type": "code",
      "source": [
        "# Matrix multiplications.\n",
        "x = tf.constant([[1., 2.], [3., 4.]])  # 2x2 matrix\n",
        "y = tf.constant([[5., 6.], [7., 8.]])\n",
        "print('x+y : ', x+y, '\\n')\n",
        "print('tf.add(x, y) : ', tf.add(x, y), '\\n')\n",
        "print('tf.matmul(x, y) : ', tf.matmul(x, y), '\\n')\n",
        "print('x*y : ', x*y, '\\n')\n",
        "print('tf.tensordot(x, y) : ',tf.tensordot(x, y, axes=1), '\\n')\n",
        "# Convert Tensor to Numpy.\n",
        "print('Convert Tensor to Numpy: \\n', tf.add(x, y).numpy(), '\\n')"
      ],
      "metadata": {
        "id": "a3tqoW_Vnoo3",
        "colab": {
          "base_uri": "https://localhost:8080/"
        },
        "outputId": "8ef0dc54-b0a4-4b15-d78e-c0b73097b972"
      },
      "execution_count": null,
      "outputs": [
        {
          "output_type": "stream",
          "name": "stdout",
          "text": [
            "x+y :  tf.Tensor(\n",
            "[[ 6.  8.]\n",
            " [10. 12.]], shape=(2, 2), dtype=float32) \n",
            "\n",
            "tf.add(x, y) :  tf.Tensor(\n",
            "[[ 6.  8.]\n",
            " [10. 12.]], shape=(2, 2), dtype=float32) \n",
            "\n",
            "tf.matmul(x, y) :  tf.Tensor(\n",
            "[[19. 22.]\n",
            " [43. 50.]], shape=(2, 2), dtype=float32) \n",
            "\n",
            "x*y :  tf.Tensor(\n",
            "[[ 5. 12.]\n",
            " [21. 32.]], shape=(2, 2), dtype=float32) \n",
            "\n",
            "tf.tensordot(x, y) :  tf.Tensor(\n",
            "[[19. 22.]\n",
            " [43. 50.]], shape=(2, 2), dtype=float32) \n",
            "\n",
            "Convert Tensor to Numpy: \n",
            " [[ 6.  8.]\n",
            " [10. 12.]] \n",
            "\n"
          ]
        }
      ]
    },
    {
      "cell_type": "markdown",
      "source": [
        "#### Indexing"
      ],
      "metadata": {
        "id": "ItqxahVDiSWl"
      }
    },
    {
      "cell_type": "code",
      "source": [
        "x=tf.constant(range(16))\n",
        "print('x : ', x, '\\n')\n",
        "print('x[:5]: ',x[:5], '\\n')\n",
        "print('x[::-1]: ', x[::-1], '\\n')  # revert the 1D tensor/ vector\n",
        "\n",
        "y=tf.constant([[1, 2, 3], [4, 5, 6]])\n",
        "print('y: ', y, '\\n')\n",
        "print('y[0,:]: ', y[0, :], '\\n')\n"
      ],
      "metadata": {
        "id": "9UBy3Oi-iReN",
        "colab": {
          "base_uri": "https://localhost:8080/"
        },
        "outputId": "03b9d159-8bee-43fc-90a8-4c9ddc6679ab"
      },
      "execution_count": null,
      "outputs": [
        {
          "output_type": "stream",
          "name": "stdout",
          "text": [
            "x :  tf.Tensor([ 0  1  2  3  4  5  6  7  8  9 10 11 12 13 14 15], shape=(16,), dtype=int32) \n",
            "\n",
            "x[:5]:  tf.Tensor([0 1 2 3 4], shape=(5,), dtype=int32) \n",
            "\n",
            "x[::-1]:  tf.Tensor([15 14 13 12 11 10  9  8  7  6  5  4  3  2  1  0], shape=(16,), dtype=int32) \n",
            "\n",
            "y:  tf.Tensor(\n",
            "[[1 2 3]\n",
            " [4 5 6]], shape=(2, 3), dtype=int32) \n",
            "\n",
            "y[0,:]:  tf.Tensor([1 2 3], shape=(3,), dtype=int32) \n",
            "\n"
          ]
        }
      ]
    },
    {
      "cell_type": "markdown",
      "source": [
        "#### Reshape"
      ],
      "metadata": {
        "id": "9sRKr_W_jIX3"
      }
    },
    {
      "cell_type": "code",
      "source": [
        "x=tf.range(9)\n",
        "print('x : \\n', x, '\\n')\n",
        "x=tf.reshape(x, (3,3))\n",
        "print('tf.reshape(x, (3,3)): \\n', x, '\\n')\n",
        "x=tf.transpose(x, perm=[1, 0])\n",
        "print('tf.transpose(x, perm=[1, 0]) : \\n', x, '\\n')"
      ],
      "metadata": {
        "id": "6bEhWiy_jLAU",
        "colab": {
          "base_uri": "https://localhost:8080/"
        },
        "outputId": "7d6a8af9-a0bb-4a5a-8799-94d8d9832e10"
      },
      "execution_count": null,
      "outputs": [
        {
          "output_type": "stream",
          "name": "stdout",
          "text": [
            "x : \n",
            " tf.Tensor([0 1 2 3 4 5 6 7 8], shape=(9,), dtype=int32) \n",
            "\n",
            "tf.reshape(x, (3,3)): \n",
            " tf.Tensor(\n",
            "[[0 1 2]\n",
            " [3 4 5]\n",
            " [6 7 8]], shape=(3, 3), dtype=int32) \n",
            "\n",
            "tf.transpose(x, perm=[1, 0]) : \n",
            " tf.Tensor(\n",
            "[[0 3 6]\n",
            " [1 4 7]\n",
            " [2 5 8]], shape=(3, 3), dtype=int32) \n",
            "\n"
          ]
        }
      ]
    },
    {
      "cell_type": "markdown",
      "source": [
        "## Construct model with Sequential API (convenient)\n",
        "**Using MNIST as an example** </br>\n",
        "MNIST is a dataset of handwritten digits (iamges). The dataset contains 60,000 examples for training and 10,000 examples for testing. The digits have been size-normalized and centered in a fixed-size image (28x28 pixels) with values from 0 to 255. \n",
        "\n",
        "\n"
      ],
      "metadata": {
        "id": "mNkmiwID6SB-"
      }
    },
    {
      "cell_type": "markdown",
      "source": [
        "</br>\n",
        "<img src=\"https://miro.medium.com/max/1400/1*LyRlX__08q40UJohhJG9Ow.png\", width=640, heigth=480>\n",
        "\n"
      ],
      "metadata": {
        "id": "HxMb8VBl5wCP"
      }
    },
    {
      "cell_type": "markdown",
      "source": [
        "**Steps to build a nerual network model:**\n",
        "<ul>\n",
        " <li> Load and prepare data </li>\n",
        "  <li> Define/ create the model </li>\n",
        " <li> Compile the model  </li>\n",
        "<li> Train/ fit the model  </li>\n",
        "<li> Evaluate the model  </li>\n",
        "</ul>"
      ],
      "metadata": {
        "id": "F5sY3CFK5ji8"
      }
    },
    {
      "cell_type": "markdown",
      "source": [
        "### CNN for MNIST\n",
        "\n",
        "*   Applicatioons: images (is widely used for computer vision tasks, e.g., object detection, image segmentation, facial recognition)   \n",
        "*   CNN captures the <b>spatial</b> features from an image\n",
        "*   <b>Parameter sharing</b>: a single filter is applied across different parts of an input to produce a feature map"
      ],
      "metadata": {
        "id": "rFkEHqXpsHPQ"
      }
    },
    {
      "cell_type": "markdown",
      "source": [
        "</br>\n",
        "<img src=\"https://media3.giphy.com/media/i4NjAwytgIRDW/giphy.gif\", width=640, heigth=480>\n"
      ],
      "metadata": {
        "id": "xdq8js6y1AFU"
      }
    },
    {
      "cell_type": "markdown",
      "source": [
        "#### Import packages"
      ],
      "metadata": {
        "id": "1BPbYD3b_JeW"
      }
    },
    {
      "cell_type": "code",
      "source": [
        "import numpy as np\n",
        "np.random.seed(24060)  # for reproducibility\n",
        "from keras.models import Sequential  # a linear stack of neural network layers\n",
        "from keras.layers import Dense, Dropout, Activation, Flatten  # import core layers\n",
        "from keras.layers import Convolution2D, MaxPooling2D  # convolutional and pooling layer (common components of CNN)\n",
        "from keras.utils import np_utils # for data processing, e.g. conversion (if any)"
      ],
      "metadata": {
        "id": "iCA0F79K6Rwz"
      },
      "execution_count": null,
      "outputs": []
    },
    {
      "cell_type": "markdown",
      "source": [
        "#### Load in data (and split into trainig and test set)"
      ],
      "metadata": {
        "id": "B_aqwCf0_eye"
      }
    },
    {
      "cell_type": "code",
      "source": [
        "from keras.datasets import mnist\n",
        " \n",
        "# Load pre-shuffled MNIST data into train and test sets\n",
        "(X_train, y_train), (X_test, y_test) = mnist.load_data()\n",
        "print( 'X_train.shape : ', X_train.shape, 'X_test.shape : ', X_test.shape, 'y_train.shape : ', y_train.shape, 'y_test.shape : ', y_test.shape)  "
      ],
      "metadata": {
        "id": "PX-JJB8_8Hpk",
        "colab": {
          "base_uri": "https://localhost:8080/"
        },
        "outputId": "2ed78e9a-efc3-4334-f6e3-ce5eeb96f48a"
      },
      "execution_count": null,
      "outputs": [
        {
          "output_type": "stream",
          "name": "stdout",
          "text": [
            "Downloading data from https://storage.googleapis.com/tensorflow/tf-keras-datasets/mnist.npz\n",
            "11490434/11490434 [==============================] - 0s 0us/step\n",
            "X_train.shape :  (60000, 28, 28) X_test.shape :  (10000, 28, 28) y_train.shape :  (60000,) y_test.shape :  (10000,)\n"
          ]
        }
      ]
    },
    {
      "cell_type": "code",
      "source": [
        "## Plot an example image\n",
        "from matplotlib import pyplot as plt\n",
        "for i in range(9):\n",
        "\tplt.subplot(330 + 1 + i)\n",
        "\tplt.imshow(X_train[i])\n",
        "plt.show()"
      ],
      "metadata": {
        "id": "QB_KwCqI8aCy",
        "colab": {
          "base_uri": "https://localhost:8080/",
          "height": 433
        },
        "outputId": "88f09b27-3148-4df7-a3c2-e7c44951fb74"
      },
      "execution_count": null,
      "outputs": [
        {
          "output_type": "display_data",
          "data": {
            "text/plain": [
              "<Figure size 640x480 with 9 Axes>"
            ],
            "image/png": "[encoded data removed]"
          },
          "metadata": {}
        }
      ]
    },
    {
      "cell_type": "code",
      "source": [
        "X_train.shape"
      ],
      "metadata": {
        "colab": {
          "base_uri": "https://localhost:8080/"
        },
        "id": "sEJIsyOMXxhh",
        "outputId": "4fdc838c-297a-4e68-d6ee-3790583a9679"
      },
      "execution_count": null,
      "outputs": [
        {
          "output_type": "execute_result",
          "data": {
            "text/plain": [
              "(60000, 28, 28)"
            ]
          },
          "metadata": {},
          "execution_count": 8
        }
      ]
    },
    {
      "cell_type": "markdown",
      "source": [
        "#### Data preprocessing\n",
        "**Note:** An image is usually represented by *(width, height, n_channels)*. \n",
        "An RGB image (full-color image) has 3 channels, while MNIST images only have 1 channel (black and white). \n",
        "However, when using the TensorFlow backend, we must explicitly declare a dimension for the number of channels \n",
        "in the input images. In other words, we need to transform the dataset from having shape (n_images, width, height) \n",
        "to *(n_images, width, height, **n_channels**)*.\n",
        "\n",
        "\n"
      ],
      "metadata": {
        "id": "BwedVtvl84T6"
      }
    },
    {
      "cell_type": "code",
      "source": [
        "X_train = X_train.reshape(X_train.shape[0], 28, 28, 1)  # declare the last element (1) as n_channels\n",
        "X_test = X_test.reshape(X_test.shape[0], 28, 28, 1)\n",
        "print( X_train.shape )\n",
        "# (60000, 28, 28, 1)"
      ],
      "metadata": {
        "colab": {
          "base_uri": "https://localhost:8080/"
        },
        "id": "vj5vFtYO-D2M",
        "outputId": "cbd5ceba-4630-4510-8278-76b8d45df1a9"
      },
      "execution_count": null,
      "outputs": [
        {
          "output_type": "stream",
          "name": "stdout",
          "text": [
            "(60000, 28, 28, 1)\n"
          ]
        }
      ]
    },
    {
      "cell_type": "code",
      "source": [
        "## Convert data type to float32 and normalize its values to the range [0, 1]\n",
        "X_train = X_train.astype('float32')\n",
        "X_test = X_test.astype('float32')\n",
        "X_train /= 255\n",
        "X_test /= 255"
      ],
      "metadata": {
        "id": "hf9W4JG5-mcz"
      },
      "execution_count": null,
      "outputs": []
    },
    {
      "cell_type": "code",
      "source": [
        "print('Original label representation: ', y_train[:10], '\\n', 'y_train.shape: ', y_train.shape)  # MNIST has 10 different classes. The labels are represented with 10 different integers\n",
        "## its better to convert the label of each record from an integer to a 1D arrary \n",
        "\n",
        "Y_train = np_utils.to_categorical(y_train, 10)  ## one-hot encoding\n",
        "Y_test = np_utils.to_categorical(y_test, 10)\n",
        "print('\\n After conversion: ')\n",
        "print(Y_train[:10], '\\n',' Y_train.shape: ',  Y_train.shape)\n"
      ],
      "metadata": {
        "id": "dEjC74Fc_y3B",
        "colab": {
          "base_uri": "https://localhost:8080/"
        },
        "outputId": "8eb159fa-41de-4fb4-d653-a148c1d46856"
      },
      "execution_count": null,
      "outputs": [
        {
          "output_type": "stream",
          "name": "stdout",
          "text": [
            "Original label representation:  [5 0 4 1 9 2 1 3 1 4] \n",
            " y_train.shape:  (60000,)\n",
            "\n",
            " After conversion: \n",
            "[[0. 0. 0. 0. 0. 1. 0. 0. 0. 0.]\n",
            " [1. 0. 0. 0. 0. 0. 0. 0. 0. 0.]\n",
            " [0. 0. 0. 0. 1. 0. 0. 0. 0. 0.]\n",
            " [0. 1. 0. 0. 0. 0. 0. 0. 0. 0.]\n",
            " [0. 0. 0. 0. 0. 0. 0. 0. 0. 1.]\n",
            " [0. 0. 1. 0. 0. 0. 0. 0. 0. 0.]\n",
            " [0. 1. 0. 0. 0. 0. 0. 0. 0. 0.]\n",
            " [0. 0. 0. 1. 0. 0. 0. 0. 0. 0.]\n",
            " [0. 1. 0. 0. 0. 0. 0. 0. 0. 0.]\n",
            " [0. 0. 0. 0. 1. 0. 0. 0. 0. 0.]] \n",
            "  Y_train.shape:  (60000, 10)\n"
          ]
        }
      ]
    },
    {
      "cell_type": "markdown",
      "source": [
        "#### Define model structure"
      ],
      "metadata": {
        "id": "OAgBXLo4Bo8X"
      }
    },
    {
      "cell_type": "code",
      "source": [
        "model = Sequential()   # A neural network is formed with a sequential of stacked layers\n",
        "img_size= 28\n",
        "model.add(Convolution2D(32, (3,3), activation='relu', input_shape=(img_size, img_size,1)))  # the 1st layer, 32 is the number of filters, (3, 3) is the size of each filter, input_size=(width, height, n_channels)\n",
        "print(model.output_shape)\n",
        "model.add(Convolution2D(32, (3,3), activation='relu'))\n",
        "print(model.output_shape)\n",
        "model.add(MaxPooling2D(pool_size=(2,2)))   # downsampling, to reduce the number of parameters/ reduce the complexity of model -> prevent overfitting\n",
        "print(model.output_shape)\n",
        "model.add(Dropout(0.25))  # Dropout layer is for regulization purpose to prevent overfitting\n",
        " \n",
        "model.add(Flatten()) # weights from the convolution layers must be flattened (made 1-dimensional) before passing them to the fully connected Dense layer\n",
        "print(model.output_shape)\n",
        "# 4608*128\n",
        "model.add(Dense(128, activation='relu')) # A dense layer is a feed-forward fully connected layer. 128 is the number of neurons, also the output size of this layer\n",
        "print(model.output_shape)\n",
        "model.add(Dropout(0.5))\n",
        "model.add(Dense(10, activation='softmax')) # output layer, the output size is 10, corresponding to 10 classes\n",
        "print(model.output_shape)"
      ],
      "metadata": {
        "id": "SP0It04M_9jQ",
        "colab": {
          "base_uri": "https://localhost:8080/"
        },
        "outputId": "6fe22fd7-954a-41c4-f89c-d15adc74d639"
      },
      "execution_count": null,
      "outputs": [
        {
          "output_type": "stream",
          "name": "stdout",
          "text": [
            "(None, 26, 26, 32)\n",
            "(None, 24, 24, 32)\n",
            "(None, 12, 12, 32)\n",
            "(None, 4608)\n",
            "(None, 128)\n",
            "(None, 10)\n"
          ]
        }
      ]
    },
    {
      "cell_type": "markdown",
      "source": [
        "**Note:** </br>\n",
        "*   **Sequential**: It is referred to as “sequential” because it involves defining a Sequential class and adding layers to the model one by one in a linear manner, from input to output.\n",
        "</br>\n",
        "*   **Flatten**: This will take the 2D matrix representing the image pixels and turn it into a 1D array. We need to do this before adding a fully connected layer. </br>\n",
        "*   **The last layer**: The softmax function takes the output of a layer and returns probabilities that sum up to 1. It is the activation of choice for the last layer of a classification model.\n"
      ],
      "metadata": {
        "id": "za-HYCmQwqcL"
      }
    },
    {
      "cell_type": "markdown",
      "source": [
        "#### Compile the model\n"
      ],
      "metadata": {
        "id": "fsJOaqU5DmJ5"
      }
    },
    {
      "cell_type": "code",
      "source": [
        "model.compile(loss='categorical_crossentropy', optimizer='adam', metrics=['accuracy'])"
      ],
      "metadata": {
        "id": "07d1kS__Dni-"
      },
      "execution_count": null,
      "outputs": []
    },
    {
      "cell_type": "markdown",
      "source": [
        "A few arguments must be specified:\n",
        "<ul>\n",
        "<li> <b>optimizer</b>: This is the component that will perform the gradient descent. Common used optimization methods: \n",
        "<ul>\n",
        "<li> <em>SGD</em> : stochastic gradient descent\n",
        "<li> <em>RMSProp</em> : Root Mean Squared Propagation. An adaptive Learning Algorithm while SGD with momentum uses constant learning rate. \n",
        "<li> <em>Adagrad</em> : Adaptive Gradient. \n",
        "<li> <em>Adam</em> : Adaptive Moment Estimation. Adam is really efficient when working with large problem involving a lot of data or parameters. Intuitively, it is a combination of the ‘gradient descent with momentum’ algorithm and the ‘RMSP’ algorithm.\n",
        "</ul>\n",
        "\n",
        "<li> <b>loss</b>: This is the metric we will optimize. Common used loss functions for different applications:\n",
        "<ul>\n",
        "<li> <em>binary_crossentropy</em> : for binary classification\n",
        "<li> <em>sparse_categorical_crossentropy</em> : for multi-class classification\n",
        "<li> <em>mse</em> (mean squared error): for regression\n",
        "\n",
        "</ul>\n",
        "<li> <b>metrics</b>: These are additional metric functions evaluated during training to provide further visibility of the model’s performance (unlike loss, they are not used in the optimization process). Common used metrics include accuracy, precision, recall, AUC, ... \n",
        "</ul>\n",
        "</br>\n",
        "</br>\n",
        "Please visit the following links for more information and options for optimizer/ loss/ metrics: </br>\n",
        "\n",
        "[tf.keras.optimizers](https://www.tensorflow.org/api_docs/python/tf/keras/optimizers) </br>\n",
        "[tf.keras.losses](https://www.tensorflow.org/api_docs/python/tf/keras/losses)</br>\n",
        "[tf.keras.metrics](https://www.tensorflow.org/api_docs/python/tf/keras/metrics)</br>"
      ],
      "metadata": {
        "id": "XcfNjRZJxYOP"
      }
    },
    {
      "cell_type": "markdown",
      "source": [
        "#### Fit the model on training data / start the training"
      ],
      "metadata": {
        "id": "VcnRw9EiD6dU"
      }
    },
    {
      "cell_type": "code",
      "source": [
        "history = model.fit(X_train, Y_train, batch_size=32, epochs=10, validation_split=0.3, verbose=1)"
      ],
      "metadata": {
        "id": "1jTFfzg-D6T9",
        "colab": {
          "base_uri": "https://localhost:8080/"
        },
        "outputId": "f2a1a860-f9c5-4bea-ce48-a3899ff2937d"
      },
      "execution_count": null,
      "outputs": [
        {
          "output_type": "stream",
          "name": "stdout",
          "text": [
            "Epoch 1/10\n",
            "1313/1313 [==============================] - 15s 5ms/step - loss: 0.2526 - accuracy: 0.9238 - val_loss: 0.0712 - val_accuracy: 0.9786\n",
            "Epoch 2/10\n",
            "1313/1313 [==============================] - 7s 5ms/step - loss: 0.1020 - accuracy: 0.9702 - val_loss: 0.0564 - val_accuracy: 0.9837\n",
            "Epoch 3/10\n",
            "1313/1313 [==============================] - 8s 6ms/step - loss: 0.0780 - accuracy: 0.9766 - val_loss: 0.0513 - val_accuracy: 0.9850\n",
            "Epoch 4/10\n",
            "1313/1313 [==============================] - 9s 7ms/step - loss: 0.0646 - accuracy: 0.9802 - val_loss: 0.0424 - val_accuracy: 0.9872\n",
            "Epoch 5/10\n",
            "1313/1313 [==============================] - 7s 5ms/step - loss: 0.0538 - accuracy: 0.9833 - val_loss: 0.0411 - val_accuracy: 0.9885\n",
            "Epoch 6/10\n",
            "1313/1313 [==============================] - 7s 5ms/step - loss: 0.0467 - accuracy: 0.9849 - val_loss: 0.0427 - val_accuracy: 0.9876\n",
            "Epoch 7/10\n",
            "1313/1313 [==============================] - 7s 5ms/step - loss: 0.0455 - accuracy: 0.9849 - val_loss: 0.0387 - val_accuracy: 0.9889\n",
            "Epoch 8/10\n",
            "1313/1313 [==============================] - 6s 5ms/step - loss: 0.0384 - accuracy: 0.9872 - val_loss: 0.0403 - val_accuracy: 0.9890\n",
            "Epoch 9/10\n",
            "1313/1313 [==============================] - 7s 5ms/step - loss: 0.0334 - accuracy: 0.9888 - val_loss: 0.0458 - val_accuracy: 0.9890\n",
            "Epoch 10/10\n",
            "1313/1313 [==============================] - 8s 6ms/step - loss: 0.0330 - accuracy: 0.9891 - val_loss: 0.0402 - val_accuracy: 0.9891\n"
          ]
        }
      ]
    },
    {
      "cell_type": "markdown",
      "source": [
        "Note:\n",
        "**verbose=1** will allow us to get a progress bar with the training information such as metrics we defined in the compile function, the loss and the estimated remaining time. "
      ],
      "metadata": {
        "id": "cy2CQRe6xw8h"
      }
    },
    {
      "cell_type": "markdown",
      "source": [
        "#### Evaluate the trained model on test data"
      ],
      "metadata": {
        "id": "bFYFjaKyEJSZ"
      }
    },
    {
      "cell_type": "code",
      "source": [
        "model.evaluate(X_test, Y_test, batch_size=128)   # The first output is loss, the 2nd is accuracy (the metrics set when compling the model)"
      ],
      "metadata": {
        "id": "aO3g3OOOEIga",
        "colab": {
          "base_uri": "https://localhost:8080/"
        },
        "outputId": "78a11deb-a77d-4dbc-d364-a24e918aa74b"
      },
      "execution_count": null,
      "outputs": [
        {
          "output_type": "stream",
          "name": "stdout",
          "text": [
            "79/79 [==============================] - 0s 3ms/step - loss: 0.0310 - accuracy: 0.9907\n"
          ]
        },
        {
          "output_type": "execute_result",
          "data": {
            "text/plain": [
              "[0.030987637117505074, 0.9907000064849854]"
            ]
          },
          "metadata": {},
          "execution_count": 15
        }
      ]
    },
    {
      "cell_type": "markdown",
      "source": [
        "### MLP for MNIST\n",
        "\n",
        "\n",
        "*   Is capable of learning any nonlinear function (aka. Universal Function Approximators)\n",
        "\n",
        "\n"
      ],
      "metadata": {
        "id": "YmYVkjEDIH-I"
      }
    },
    {
      "cell_type": "code",
      "source": [
        "from keras.models import Sequential\n",
        "from keras.layers import Dense\n",
        "from keras.optimizers import SGD\n",
        "from keras.datasets import mnist\n",
        "from keras.utils import np_utils\n",
        "# training parameters\n",
        "batch_size = 128\n",
        "n_classes = 10\n",
        "n_epoch = 20\n",
        "# load dataset\n",
        "(X_train, y_train), (X_test, y_test) = mnist.load_data()\n",
        "X_train = X_train.reshape(60000, 784)  # Since MLP is formed by fully-connected layers, we need to convert an image to an 1D vector\n",
        "X_test = X_test.reshape(10000, 784)\n",
        "X_train = X_train.astype('float32')\n",
        "X_test = X_test.astype('float32')\n",
        "X_train /= 255\n",
        "X_test /= 255\n",
        "Y_Train = np_utils.to_categorical(y_train, n_classes)\n",
        "Y_Test = np_utils.to_categorical(y_test, n_classes)\n",
        "\n",
        "# Define Model Structure\n",
        "model = Sequential()\n",
        "model.add(Dense(units=64, activation='relu'))\n",
        "model.add(Dense(units=64, activation='relu'))\n",
        "model.add(Dense(10, activation='softmax'))\n",
        "model.compile(optimizer=SGD(lr=0.05), loss='categorical_crossentropy', metrics=['accuracy'])   # compile model\n",
        "\n",
        "# Train\n",
        "history = model.fit(X_train, Y_Train, epochs=n_epoch, batch_size=batch_size, validation_split=0.3, verbose=1)\n",
        "\n",
        "# Evaluate\n",
        "evaluation = model.evaluate(X_test, Y_Test, verbose=1)\n",
        "print('Summary: Loss over the test dataset: %.2f, Accuracy: %.2f' % (evaluation[0], evaluation[1]))"
      ],
      "metadata": {
        "id": "wP7YWhlAIHg0",
        "colab": {
          "base_uri": "https://localhost:8080/"
        },
        "outputId": "745b4028-683a-4647-c748-286b53137892"
      },
      "execution_count": null,
      "outputs": [
        {
          "output_type": "stream",
          "name": "stderr",
          "text": [
            "/usr/local/lib/python3.9/dist-packages/keras/optimizers/legacy/gradient_descent.py:114: UserWarning: The `lr` argument is deprecated, use `learning_rate` instead.\n",
            "  super().__init__(name, **kwargs)\n"
          ]
        },
        {
          "output_type": "stream",
          "name": "stdout",
          "text": [
            "Epoch 1/20\n",
            "329/329 [==============================] - 2s 6ms/step - loss: 0.7596 - accuracy: 0.7959 - val_loss: 0.3768 - val_accuracy: 0.8867\n",
            "Epoch 2/20\n",
            "329/329 [==============================] - 2s 5ms/step - loss: 0.3361 - accuracy: 0.9034 - val_loss: 0.3804 - val_accuracy: 0.8793\n",
            "Epoch 3/20\n",
            "329/329 [==============================] - 1s 4ms/step - loss: 0.2814 - accuracy: 0.9198 - val_loss: 0.3153 - val_accuracy: 0.9043\n",
            "Epoch 4/20\n",
            "329/329 [==============================] - 1s 4ms/step - loss: 0.2453 - accuracy: 0.9291 - val_loss: 0.2574 - val_accuracy: 0.9238\n",
            "Epoch 5/20\n",
            "329/329 [==============================] - 1s 4ms/step - loss: 0.2177 - accuracy: 0.9375 - val_loss: 0.2190 - val_accuracy: 0.9375\n",
            "Epoch 6/20\n",
            "329/329 [==============================] - 1s 4ms/step - loss: 0.1965 - accuracy: 0.9422 - val_loss: 0.2027 - val_accuracy: 0.9428\n",
            "Epoch 7/20\n",
            "329/329 [==============================] - 1s 4ms/step - loss: 0.1782 - accuracy: 0.9489 - val_loss: 0.1949 - val_accuracy: 0.9442\n",
            "Epoch 8/20\n",
            "329/329 [==============================] - 1s 4ms/step - loss: 0.1645 - accuracy: 0.9521 - val_loss: 0.1767 - val_accuracy: 0.9506\n",
            "Epoch 9/20\n",
            "329/329 [==============================] - 1s 3ms/step - loss: 0.1509 - accuracy: 0.9562 - val_loss: 0.1773 - val_accuracy: 0.9474\n",
            "Epoch 10/20\n",
            "329/329 [==============================] - 2s 5ms/step - loss: 0.1405 - accuracy: 0.9600 - val_loss: 0.1623 - val_accuracy: 0.9533\n",
            "Epoch 11/20\n",
            "329/329 [==============================] - 2s 5ms/step - loss: 0.1314 - accuracy: 0.9618 - val_loss: 0.1888 - val_accuracy: 0.9451\n",
            "Epoch 12/20\n",
            "329/329 [==============================] - 1s 4ms/step - loss: 0.1231 - accuracy: 0.9648 - val_loss: 0.1554 - val_accuracy: 0.9559\n",
            "Epoch 13/20\n",
            "329/329 [==============================] - 1s 4ms/step - loss: 0.1161 - accuracy: 0.9675 - val_loss: 0.1481 - val_accuracy: 0.9574\n",
            "Epoch 14/20\n",
            "329/329 [==============================] - 1s 4ms/step - loss: 0.1088 - accuracy: 0.9689 - val_loss: 0.1420 - val_accuracy: 0.9588\n",
            "Epoch 15/20\n",
            "329/329 [==============================] - 1s 4ms/step - loss: 0.1020 - accuracy: 0.9718 - val_loss: 0.2581 - val_accuracy: 0.9184\n",
            "Epoch 16/20\n",
            "329/329 [==============================] - 1s 4ms/step - loss: 0.0981 - accuracy: 0.9721 - val_loss: 0.1471 - val_accuracy: 0.9562\n",
            "Epoch 17/20\n",
            "329/329 [==============================] - 1s 4ms/step - loss: 0.0923 - accuracy: 0.9741 - val_loss: 0.1546 - val_accuracy: 0.9544\n",
            "Epoch 18/20\n",
            "329/329 [==============================] - 1s 4ms/step - loss: 0.0874 - accuracy: 0.9750 - val_loss: 0.1328 - val_accuracy: 0.9614\n",
            "Epoch 19/20\n",
            "329/329 [==============================] - 1s 4ms/step - loss: 0.0834 - accuracy: 0.9760 - val_loss: 0.1796 - val_accuracy: 0.9458\n",
            "Epoch 20/20\n",
            "329/329 [==============================] - 2s 5ms/step - loss: 0.0791 - accuracy: 0.9776 - val_loss: 0.1580 - val_accuracy: 0.9537\n",
            "313/313 [==============================] - 1s 3ms/step - loss: 0.1456 - accuracy: 0.9566\n",
            "Summary: Loss over the test dataset: 0.15, Accuracy: 0.96\n"
          ]
        }
      ]
    },
    {
      "cell_type": "code",
      "source": [
        "import keras\n",
        "from keras.models import Sequential\n",
        "from tensorflow.keras import layers\n",
        "model=Sequential(\n",
        "    [\n",
        "        keras.Input(shape=(28*28)),\n",
        "        layers.Dense(64,activation='relu'), \n",
        "        layers.Dense(64,activation='relu'), \n",
        "        layers.Dense(10,activation='softmax'), \n",
        "     \n",
        "    ]\n",
        ")\n",
        "model.summary()  "
      ],
      "metadata": {
        "id": "INjpFGHVlWzE",
        "colab": {
          "base_uri": "https://localhost:8080/"
        },
        "outputId": "25094275-0cdf-4e2d-861f-2682fa80bce4"
      },
      "execution_count": null,
      "outputs": [
        {
          "output_type": "stream",
          "name": "stdout",
          "text": [
            "Model: \"sequential_2\"\n",
            "_________________________________________________________________\n",
            " Layer (type)                Output Shape              Param #   \n",
            "=================================================================\n",
            " dense_5 (Dense)             (None, 64)                50240     \n",
            "                                                                 \n",
            " dense_6 (Dense)             (None, 64)                4160      \n",
            "                                                                 \n",
            " dense_7 (Dense)             (None, 10)                650       \n",
            "                                                                 \n",
            "=================================================================\n",
            "Total params: 55,050\n",
            "Trainable params: 55,050\n",
            "Non-trainable params: 0\n",
            "_________________________________________________________________\n"
          ]
        }
      ]
    },
    {
      "cell_type": "markdown",
      "source": [
        "## Construct model with Functional API (more complex but also more flexbible)\n",
        "\n",
        "*   It needs to explicitly specify the connection between 2 layers, i.e, connecting the output of one layer to the input of another layer.\n",
        "*   It allows for more complicated model designs, such as models that may have multiple input paths (separate vectors) and models that have multiple output paths (e.g., a word and a number)\n",
        "*   More information about functional API:\n",
        "https://www.tensorflow.org/guide/keras/functional"
      ],
      "metadata": {
        "id": "WYGiv-uymb1-"
      }
    },
    {
      "cell_type": "code",
      "source": [
        "### Data preoaration is the same\n",
        "import keras\n",
        "from keras.models import Sequential\n",
        "from keras import layers\n",
        "from keras.layers import Dense\n",
        "from keras.optimizers import SGD\n",
        "from keras.datasets import mnist\n",
        "from keras.utils import np_utils\n",
        "# training parameters\n",
        "batch_size = 128\n",
        "n_classes = 10\n",
        "n_epoch = 10\n",
        "# load dataset\n",
        "(X_train, y_train), (X_test, y_test) = mnist.load_data()\n",
        "X_train = X_train.reshape(60000, 784)  # Since MLP is formed by fully-connected layers, we need to convert an image to an 1D vector\n",
        "X_test = X_test.reshape(10000, 784)\n",
        "X_train = X_train.astype('float32')\n",
        "X_test = X_test.astype('float32')\n",
        "X_train /= 255\n",
        "X_test /= 255\n",
        "Y_Train = np_utils.to_categorical(y_train, n_classes)\n",
        "Y_Test = np_utils.to_categorical(y_test, n_classes)"
      ],
      "metadata": {
        "id": "xAy_AQ0LmbMC"
      },
      "execution_count": null,
      "outputs": []
    },
    {
      "cell_type": "code",
      "source": [
        "##### Using funtional API ######\n",
        "inputs=keras.Input(shape=(28*28))\n",
        "x=layers.Dense(64,activation='relu')(inputs)  # specify the current layer's input is the output of the previsou layer\n",
        "x=layers.Dense(64,activation='relu')(x)\n",
        "outputs = layers.Dense(10, activation='softmax')(x)\n",
        "model=keras.Model(inputs=inputs, outputs=outputs) # Once connected, we define a Model object and specify the input and output layers. \n",
        "##### Using funtional API ######\n",
        "\n",
        "model.compile(optimizer=SGD(lr=0.05), loss='categorical_crossentropy', metrics=['accuracy'])   # compile model\n",
        "model.fit(X_train, Y_Train, epochs=n_epoch, batch_size=batch_size, verbose=1)\n",
        "model.evaluate(X_test, Y_Test, verbose=1)"
      ],
      "metadata": {
        "id": "140_CFh6v1Op",
        "colab": {
          "base_uri": "https://localhost:8080/"
        },
        "outputId": "2c10292a-4113-4e57-c4dd-8b0addf9f04e"
      },
      "execution_count": null,
      "outputs": [
        {
          "output_type": "stream",
          "name": "stdout",
          "text": [
            "Epoch 1/10\n",
            "469/469 [==============================] - 2s 3ms/step - loss: 0.6312 - accuracy: 0.8263\n",
            "Epoch 2/10\n",
            "469/469 [==============================] - 1s 3ms/step - loss: 0.2968 - accuracy: 0.9131\n",
            "Epoch 3/10\n",
            "469/469 [==============================] - 1s 3ms/step - loss: 0.2462 - accuracy: 0.9281\n",
            "Epoch 4/10\n",
            "469/469 [==============================] - 2s 3ms/step - loss: 0.2113 - accuracy: 0.9384\n",
            "Epoch 5/10\n",
            "469/469 [==============================] - 2s 4ms/step - loss: 0.1855 - accuracy: 0.9458\n",
            "Epoch 6/10\n",
            "469/469 [==============================] - 1s 3ms/step - loss: 0.1656 - accuracy: 0.9520\n",
            "Epoch 7/10\n",
            "469/469 [==============================] - 1s 3ms/step - loss: 0.1490 - accuracy: 0.9566\n",
            "Epoch 8/10\n",
            "469/469 [==============================] - 1s 3ms/step - loss: 0.1353 - accuracy: 0.9609\n",
            "Epoch 9/10\n",
            "469/469 [==============================] - 2s 4ms/step - loss: 0.1236 - accuracy: 0.9645\n",
            "Epoch 10/10\n",
            "469/469 [==============================] - 2s 4ms/step - loss: 0.1145 - accuracy: 0.9668\n",
            "313/313 [==============================] - 1s 2ms/step - loss: 0.1177 - accuracy: 0.9645\n"
          ]
        },
        {
          "output_type": "execute_result",
          "data": {
            "text/plain": [
              "[0.11772403866052628, 0.9645000100135803]"
            ]
          },
          "metadata": {},
          "execution_count": 19
        }
      ]
    },
    {
      "cell_type": "markdown",
      "source": [
        "### Recurrent Neural Networks (SimpleRNN, LSTM, GRU)\n",
        " \n",
        "*   Applications: sequential data such as language models, text, speech, time series, ...\n",
        "*   Architecture difference: a looping constraint on the hidden layer\n",
        "</br>\n",
        "<img src=\"https://cdn.analyticsvidhya.com/wp-content/uploads/2020/02/assets_-LvBP1svpACTB1R1x_U4_-LwEQnQw8wHRB6_2zYtG_-LwEZT8zd07mLDuaQZwy_image-1.png\", width=520>\n",
        "*   RNN captures the sequential information/ temporal features present in the input data (dependence among steps)\n",
        "</br>\n",
        "<img src=\"https://cdn.analyticsvidhya.com/wp-content/uploads/2020/02/1d_POV7c8fzHbKuTgJzCxtA.gif\", width=520>\n",
        "*   Parameter sharing: share the parameters across different time steps.\n",
        "</br>\n",
        "<img src=\"https://cdn.analyticsvidhya.com/wp-content/uploads/2020/02/The-standard-RNN-and-unfolded-RNN-300x131.png\", width=520>\n",
        "\n",
        "\n",
        "\n",
        "\n",
        "\n",
        "\n"
      ],
      "metadata": {
        "id": "_jmW05cOT5bF"
      }
    },
    {
      "cell_type": "code",
      "source": [
        "# IMDB sentiment classification task\n",
        "# This is a dataset of 25,000 movies reviews from IMDB, labeled by sentiment (positive/negative). \n",
        "# Reviews have been preprocessed, and each review is encoded as a list of word indexes (integers). \n",
        "from keras.utils import pad_sequences\n",
        "from keras.layers import Embedding\n",
        "from keras.layers import LSTM, GRU, SimpleRNN\n",
        "from keras.datasets import imdb\n",
        "max_features = 20000\n",
        "maxlen = 100  # cut texts after this number of words (among top max_features most common words)\n",
        "batch_size = 32\n",
        "\n",
        "(X_train, y_train), (X_test, y_test) = imdb.load_data(num_words=max_features)\n",
        "print(len(X_train), 'train sequences')\n",
        "print(len(X_test), 'test sequences')\n",
        "\n",
        "print('Example:')\n",
        "print(X_train[:1])\n",
        "\n",
        "print(\"Pad sequences (samples x time)\")\n",
        "X_train = pad_sequences(X_train, maxlen=maxlen)\n",
        "X_test = pad_sequences(X_test, maxlen=maxlen)\n",
        "print('X_train shape:', X_train.shape)\n",
        "print('X_test shape:', X_test.shape)\n",
        "\n",
        "\n"
      ],
      "metadata": {
        "id": "hkOIeA0hT5KL",
        "colab": {
          "base_uri": "https://localhost:8080/"
        },
        "outputId": "1810fd63-ac6e-4003-be2e-9ce192aee46e"
      },
      "execution_count": null,
      "outputs": [
        {
          "output_type": "stream",
          "name": "stdout",
          "text": [
            "Downloading data from https://storage.googleapis.com/tensorflow/tf-keras-datasets/imdb.npz\n",
            "17464789/17464789 [==============================] - 0s 0us/step\n",
            "25000 train sequences\n",
            "25000 test sequences\n",
            "Example:\n",
            "[list([1, 14, 22, 16, 43, 530, 973, 1622, 1385, 65, 458, 4468, 66, 3941, 4, 173, 36, 256, 5, 25, 100, 43, 838, 112, 50, 670, 2, 9, 35, 480, 284, 5, 150, 4, 172, 112, 167, 2, 336, 385, 39, 4, 172, 4536, 1111, 17, 546, 38, 13, 447, 4, 192, 50, 16, 6, 147, 2025, 19, 14, 22, 4, 1920, 4613, 469, 4, 22, 71, 87, 12, 16, 43, 530, 38, 76, 15, 13, 1247, 4, 22, 17, 515, 17, 12, 16, 626, 18, 19193, 5, 62, 386, 12, 8, 316, 8, 106, 5, 4, 2223, 5244, 16, 480, 66, 3785, 33, 4, 130, 12, 16, 38, 619, 5, 25, 124, 51, 36, 135, 48, 25, 1415, 33, 6, 22, 12, 215, 28, 77, 52, 5, 14, 407, 16, 82, 10311, 8, 4, 107, 117, 5952, 15, 256, 4, 2, 7, 3766, 5, 723, 36, 71, 43, 530, 476, 26, 400, 317, 46, 7, 4, 12118, 1029, 13, 104, 88, 4, 381, 15, 297, 98, 32, 2071, 56, 26, 141, 6, 194, 7486, 18, 4, 226, 22, 21, 134, 476, 26, 480, 5, 144, 30, 5535, 18, 51, 36, 28, 224, 92, 25, 104, 4, 226, 65, 16, 38, 1334, 88, 12, 16, 283, 5, 16, 4472, 113, 103, 32, 15, 16, 5345, 19, 178, 32])]\n",
            "Pad sequences (samples x time)\n",
            "X_train shape: (25000, 100)\n",
            "X_test shape: (25000, 100)\n"
          ]
        }
      ]
    },
    {
      "cell_type": "code",
      "source": [
        "start_char = 1\n",
        "oov_char = 2\n",
        "index_from = 3\n",
        "word_index = keras.datasets.imdb.get_word_index()\n",
        "#print(word_index)\n",
        "inverted_word_index = dict(\n",
        "        (i + index_from, word) for (word, i) in word_index.items()\n",
        "    )\n",
        "show_idx = -100\n",
        "decoded_sequence = \" \".join(inverted_word_index.get(i, \"[OOV]\") for i in X_train[show_idx])\n",
        "print(decoded_sequence,y_train[show_idx] )"
      ],
      "metadata": {
        "colab": {
          "base_uri": "https://localhost:8080/"
        },
        "id": "loqJlufxeclj",
        "outputId": "6f6db2fb-e59a-4858-8ee8-5d0de2e69a2e"
      },
      "execution_count": null,
      "outputs": [
        {
          "output_type": "stream",
          "name": "stdout",
          "text": [
            "Downloading data from https://storage.googleapis.com/tensorflow/tf-keras-datasets/imdb_word_index.json\n",
            "1641221/1641221 [==============================] - 0s 0us/step\n",
            "cool like exorcism and when a killer calls this is just plain lame i can't believe that the same people who made dead men walking and [OOV] curse actually made this movie too it's not even laughably bad like jolly roger or alien abduction which by the way are pretty bad this is just bad i mean i can appreciate and or forgive bad acting or lame special effects in an asylum movie but this film takes itself way too seriously i really hope that snakes on a train is better now that's a movie i can't wait to see 0\n"
          ]
        }
      ]
    },
    {
      "cell_type": "code",
      "source": [
        "### Vanila RNN\n",
        "model = Sequential()\n",
        "model.add(Embedding(max_features, 128, input_length=maxlen))\n",
        "model.add(SimpleRNN(128))  \n",
        "model.add(Dropout(0.5))\n",
        "model.add(Dense(1))\n",
        "model.add(Activation('sigmoid'))\n",
        "\n",
        "# try using different optimizers and different optimizer configs\n",
        "model.compile(loss='binary_crossentropy', optimizer='adam', metrics='accuracy')\n",
        "\n",
        "print(\"Train SimpleRNN...\")\n",
        "model.fit(X_train, y_train, batch_size=batch_size, epochs=1,  validation_data=(X_test, y_test))\n",
        "loss, acc = model.evaluate(X_test, y_test, batch_size=batch_size)\n",
        "print('Loss over test data:', loss)\n",
        "print('Accuracy over test data:', acc)"
      ],
      "metadata": {
        "id": "ZcNppxqIUzYn",
        "colab": {
          "base_uri": "https://localhost:8080/"
        },
        "outputId": "5bb6aafd-aa24-4a36-cccc-fa3536116f7d"
      },
      "execution_count": null,
      "outputs": [
        {
          "output_type": "stream",
          "name": "stdout",
          "text": [
            "Train SimpleRNN...\n",
            "782/782 [==============================] - 125s 158ms/step - loss: 0.7257 - accuracy: 0.5190 - val_loss: 0.6509 - val_accuracy: 0.6380\n",
            "782/782 [==============================] - 9s 11ms/step - loss: 0.6509 - accuracy: 0.6380\n",
            "Loss over test data: 0.650909423828125\n",
            "Accuracy over test data: 0.6380000114440918\n"
          ]
        }
      ]
    },
    {
      "cell_type": "code",
      "source": [
        "#### LSTM\n",
        "model = Sequential()\n",
        "model.add(Embedding(max_features, 128, input_length=maxlen))\n",
        "model.add(LSTM(128))  \n",
        "model.add(Dropout(0.5))\n",
        "model.add(Dense(1))\n",
        "model.add(Activation('sigmoid'))\n",
        "\n",
        "# try using different optimizers and different optimizer configs\n",
        "model.compile(loss='binary_crossentropy', optimizer='sgd',  metrics='accuracy')\n",
        "\n",
        "print(\"Train LSTM...\")\n",
        "model.fit(X_train, y_train, batch_size=batch_size, \n",
        "          epochs=3, validation_data=(X_test, y_test))\n",
        "loss, acc = model.evaluate(X_test, y_test, batch_size=batch_size)\n",
        "print('Loss over test data:', loss)\n",
        "print('Accuracy over test data:', acc)"
      ],
      "metadata": {
        "id": "cCWhkuHbU64G",
        "colab": {
          "base_uri": "https://localhost:8080/"
        },
        "outputId": "7f227383-f7f9-4c8e-dac1-940c84812335"
      },
      "execution_count": null,
      "outputs": [
        {
          "output_type": "stream",
          "name": "stdout",
          "text": [
            "Train LSTM...\n",
            "Epoch 1/4\n",
            "782/782 [==============================] - 31s 36ms/step - loss: 0.6931 - accuracy: 0.5038 - val_loss: 0.6930 - val_accuracy: 0.4999\n",
            "Epoch 2/4\n",
            "782/782 [==============================] - 13s 17ms/step - loss: 0.6929 - accuracy: 0.5115 - val_loss: 0.6927 - val_accuracy: 0.5180\n",
            "Epoch 3/4\n",
            "782/782 [==============================] - 10s 13ms/step - loss: 0.6926 - accuracy: 0.5164 - val_loss: 0.6925 - val_accuracy: 0.5447\n",
            "Epoch 4/4\n",
            "782/782 [==============================] - 9s 12ms/step - loss: 0.6924 - accuracy: 0.5212 - val_loss: 0.6923 - val_accuracy: 0.5329\n",
            "782/782 [==============================] - 3s 4ms/step - loss: 0.6923 - accuracy: 0.5329\n",
            "Loss over test data: 0.6922636032104492\n",
            "Accuracy over test data: 0.5328800082206726\n"
          ]
        }
      ]
    },
    {
      "cell_type": "code",
      "source": [
        "### GRU\n",
        "model = Sequential()\n",
        "model.add(Embedding(max_features, 128, input_length=maxlen))\n",
        "model.add(GRU(128))  \n",
        "model.add(Dropout(0.5))\n",
        "model.add(Dense(1))\n",
        "model.add(Activation('sigmoid'))\n",
        "\n",
        "# try using different optimizers and different optimizer configs\n",
        "model.compile(loss='binary_crossentropy', optimizer='adam',  metrics='accuracy')\n",
        "\n",
        "print(\"Train GRU...\")\n",
        "model.fit(X_train, y_train, batch_size=batch_size, \n",
        "          epochs=3, validation_data=(X_test, y_test))\n",
        "loss, acc = model.evaluate(X_test, y_test, batch_size=batch_size)\n",
        "print('Loss over test data:', loss)\n",
        "print('Accuracy over test data:', acc)"
      ],
      "metadata": {
        "id": "nOIXcMI7VWWX",
        "colab": {
          "base_uri": "https://localhost:8080/"
        },
        "outputId": "c0e863e1-87c2-4ce0-ccd6-2e48682b8be0"
      },
      "execution_count": null,
      "outputs": [
        {
          "output_type": "stream",
          "name": "stdout",
          "text": [
            "Train GRU...\n",
            "Epoch 1/3\n",
            "782/782 [==============================] - 96s 120ms/step - loss: 0.4492 - accuracy: 0.7788 - val_loss: 0.3504 - val_accuracy: 0.8481\n",
            "Epoch 2/3\n",
            "782/782 [==============================] - 13s 17ms/step - loss: 0.2381 - accuracy: 0.9090 - val_loss: 0.3325 - val_accuracy: 0.8588\n",
            "Epoch 3/3\n",
            "782/782 [==============================] - 11s 14ms/step - loss: 0.1316 - accuracy: 0.9528 - val_loss: 0.4424 - val_accuracy: 0.8426\n",
            "782/782 [==============================] - 3s 3ms/step - loss: 0.4424 - accuracy: 0.8426\n",
            "Loss over test data: 0.4424390196800232\n",
            "Accuracy over test data: 0.8425999879837036\n"
          ]
        }
      ]
    },
    {
      "cell_type": "markdown",
      "source": [
        "A good online tutorial for RNN and LSTM: https://colah.github.io/posts/2015-08-Understanding-LSTMs/\n",
        "\n",
        "#### Embedding\n",
        "*   Problems of using one-hot to encode high-cardinality variables: high-dimensional and sparse 0, 1 matrix; no similarity is preserved \n",
        "*   Main idea: get improved categorical representations by learning a neural network on a supervised task\n",
        "*   An embedding is a mapping of a discrete — categorical — variable to a vector of continuous numbers\n",
        "*   Embeddings are low-dimensional, learned continuous vector representations of discrete variables\n",
        "*   Main applications: encoding (word embedding, recommendation systems), visualisation\n",
        "*   For NLP tasks, there are many pre-trained embedding models (published on Hugging face) can be used to encode words directly (transfer learning)\n",
        "\n",
        "\n",
        "\n",
        "\n"
      ],
      "metadata": {
        "id": "bqfPLexs3aSj"
      }
    },
    {
      "cell_type": "markdown",
      "source": [
        "### Visualize model"
      ],
      "metadata": {
        "id": "_Zi14ZJAxmM2"
      }
    },
    {
      "cell_type": "markdown",
      "source": [
        "#### Text description"
      ],
      "metadata": {
        "id": "DlE8IicMxpXn"
      }
    },
    {
      "cell_type": "code",
      "source": [
        "from tensorflow.keras import Sequential\n",
        "from tensorflow.keras.layers import Dense\n",
        "# define model\n",
        "model = Sequential()\n",
        "model.add(Dense(32, activation='relu', input_shape=(28,)))\n",
        "model.add(Dense(16, activation='relu'))\n",
        "model.add(Dense(1, activation='sigmoid'))\n",
        "# summarize the model\n",
        "model.summary()"
      ],
      "metadata": {
        "id": "rnpoKRy9xuNR",
        "colab": {
          "base_uri": "https://localhost:8080/"
        },
        "outputId": "55be405c-7a35-44b6-ac3f-3185fe313b73"
      },
      "execution_count": null,
      "outputs": [
        {
          "output_type": "stream",
          "name": "stdout",
          "text": [
            "Model: \"sequential_4\"\n",
            "_________________________________________________________________\n",
            " Layer (type)                Output Shape              Param #   \n",
            "=================================================================\n",
            " dense_12 (Dense)            (None, 32)                928       \n",
            "                                                                 \n",
            " dense_13 (Dense)            (None, 16)                528       \n",
            "                                                                 \n",
            " dense_14 (Dense)            (None, 1)                 17        \n",
            "                                                                 \n",
            "=================================================================\n",
            "Total params: 1,473\n",
            "Trainable params: 1,473\n",
            "Non-trainable params: 0\n",
            "_________________________________________________________________\n"
          ]
        }
      ]
    },
    {
      "cell_type": "markdown",
      "source": [
        "#### Architecture Plot"
      ],
      "metadata": {
        "id": "l7LMwqsNx8KX"
      }
    },
    {
      "cell_type": "code",
      "source": [
        "from tensorflow.keras import Sequential\n",
        "from tensorflow.keras.layers import Dense\n",
        "from tensorflow.keras.utils import plot_model\n",
        "# define model\n",
        "model = Sequential()\n",
        "model.add(Dense(32, activation='relu', input_shape=(28,)))\n",
        "model.add(Dense(16, activation='relu'))\n",
        "model.add(Dense(1, activation='sigmoid'))\n",
        "# summarize the model\n",
        "plot_model(model, 'model_arch.png', show_shapes=True)"
      ],
      "metadata": {
        "id": "HzTfPE2iyCF1",
        "colab": {
          "base_uri": "https://localhost:8080/",
          "height": 422
        },
        "outputId": "38963df4-5fad-49d5-ef5d-f3b99861b750"
      },
      "execution_count": null,
      "outputs": [
        {
          "output_type": "execute_result",
          "data": {
            "image/png": "[encoded data removed]",
            "text/plain": [
              "<IPython.core.display.Image object>"
            ]
          },
          "metadata": {},
          "execution_count": 24
        }
      ]
    },
    {
      "cell_type": "markdown",
      "source": [
        "#### Plot learning curve\n",
        "\n",
        "\n",
        "*   Learning curve is the model performance over time\n",
        "*   Provides insights into learning dynamics, e.g., when the model is learning well, underfiting, or overfitting\n",
        "\n"
      ],
      "metadata": {
        "id": "gwQfNa21yLQ4"
      }
    },
    {
      "cell_type": "code",
      "source": [
        "from matplotlib import pyplot as plt\n",
        "plt.title('Learning Curves')\n",
        "plt.xlabel('Epoch')\n",
        "plt.ylabel('Cross Entropy')\n",
        "plt.plot(history.history['loss'], label='train')  \n",
        "plt.plot(history.history['val_loss'], label='val')\n",
        "plt.legend()\n",
        "plt.show()"
      ],
      "metadata": {
        "id": "VKPFa43FyLCT",
        "colab": {
          "base_uri": "https://localhost:8080/",
          "height": 472
        },
        "outputId": "2f01e938-d59d-45f8-b1ee-2bb30611d3a2"
      },
      "execution_count": null,
      "outputs": [
        {
          "output_type": "display_data",
          "data": {
            "text/plain": [
              "<Figure size 640x480 with 1 Axes>"
            ],
            "image/png": "[encoded data removed]"
          },
          "metadata": {}
        }
      ]
    },
    {
      "cell_type": "markdown",
      "source": [
        "### Save and Load Model\n",
        "\n",
        "\n",
        "1.   Save and load model weights\n",
        "\n",
        "    *model.save_weights('my_model_weights.h5')* </br>\n",
        "    *model.load_weights('my_model_weights.h5')* </br>\n",
        "    Need to define the model structure before loading weights \n",
        "\n",
        "2.   Save and load the entire model (Serializing model)\n",
        "    *   parameters (e.g. weights)\n",
        "    *   model structure\n",
        "    *   training configurations  \n",
        "    \n",
        "  *model.save('my_model')* # creates a HDF5 file 'my_model.h5' </br>\n",
        "  *model = load_model('my_model')*\n"
      ],
      "metadata": {
        "id": "hOhD39-q8-dv"
      }
    },
    {
      "cell_type": "markdown",
      "source": [
        "### Advanced Topics\n",
        "\n",
        "#### Transfer learning\n",
        "*   Improves the learning (speed, accuracy, etc.) of a new task by transfering the knowledge of a pre-trained model\n",
        "</br>\n",
        "<img src=\"https://machinelearningmastery.com/wp-content/uploads/2017/09/Three-ways-in-which-transfer-might-improve-learning.png\", width=520>\n",
        "*   In transfer learning, we first train a base network on a base dataset and task, and then we repurpose the learned features, or transfer them, to a second target network to be trained on a target dataset and task. This process will tend to work if the features are general, meaning suitable to both base and target tasks, instead of specific to the base task.\n",
        "*   CV example: pre-train large model on large dataset (e.g. ImageNet)\n",
        "*   NLP example: Word embdding\n",
        "\n",
        "\n",
        "\n",
        "\n",
        "\n",
        "#### Tensorboard - a visualisation tool supported by Tensorfow\n",
        "*   Track and visualize metrics\n",
        "*   Visualize model structure\n",
        "*   Visualize weights, bases or tensors as how they change over time\n",
        "\n",
        "#### Regularization techniques (avoid overfitting)\n",
        "*   Layer weight regularizers (https://keras.io/api/layers/regularizers/)\n",
        "*   Dropout\n",
        "*   Early stopping (https://keras.io/api/callbacks/early_stopping/)\n",
        "\n",
        "\n",
        "\n",
        "\n",
        "\n",
        "\n"
      ],
      "metadata": {
        "id": "_trElvg9_SjW"
      }
    }
  ]
}